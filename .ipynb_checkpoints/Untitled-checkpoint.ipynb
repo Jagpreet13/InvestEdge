{
 "cells": [
  {
   "cell_type": "code",
   "execution_count": 1,
   "id": "434deaf2-e815-4566-b41b-0c56270f8991",
   "metadata": {},
   "outputs": [],
   "source": [
    "import yfinance as yf\n",
    "import numpy as np \n",
    "import pandas as pd \n",
    "import matplotlib.pyplot as plt\n"
   ]
  },
  {
   "cell_type": "code",
   "execution_count": 3,
   "id": "34c6a1dc-72c8-4948-a7ce-635354b4211c",
   "metadata": {},
   "outputs": [
    {
     "ename": "NameError",
     "evalue": "name 'user_input' is not defined",
     "output_type": "error",
     "traceback": [
      "\u001b[1;31m---------------------------------------------------------------------------\u001b[0m",
      "\u001b[1;31mNameError\u001b[0m                                 Traceback (most recent call last)",
      "Cell \u001b[1;32mIn[3], line 6\u001b[0m\n\u001b[0;32m      3\u001b[0m end \u001b[38;5;241m=\u001b[39m \u001b[38;5;124m'\u001b[39m\u001b[38;5;124m2024-04-01\u001b[39m\u001b[38;5;124m'\u001b[39m\n\u001b[0;32m      5\u001b[0m \u001b[38;5;66;03m# Fetching stock data using yfinance\u001b[39;00m\n\u001b[1;32m----> 6\u001b[0m stock \u001b[38;5;241m=\u001b[39m yf\u001b[38;5;241m.\u001b[39mTicker(\u001b[43muser_input\u001b[49m)\n\u001b[0;32m      7\u001b[0m df \u001b[38;5;241m=\u001b[39m stock\u001b[38;5;241m.\u001b[39mhistory(start\u001b[38;5;241m=\u001b[39mstart, end\u001b[38;5;241m=\u001b[39mend)\n",
      "\u001b[1;31mNameError\u001b[0m: name 'user_input' is not defined"
     ]
    }
   ],
   "source": [
    "# User input for stock ticker\n",
    "start = '2019-01-01'\n",
    "end = '2024-04-01'\n",
    "\n",
    "# Fetching stock data using yfinance\n",
    "stock = yf.Ticker(user_input)\n",
    "df = stock.history(start=start, end=end)\n"
   ]
  },
  {
   "cell_type": "code",
   "execution_count": null,
   "id": "c136091b-656b-4d74-8844-adb1b8596254",
   "metadata": {},
   "outputs": [],
   "source": []
  }
 ],
 "metadata": {
  "kernelspec": {
   "display_name": "Python 3 (ipykernel)",
   "language": "python",
   "name": "python3"
  },
  "language_info": {
   "codemirror_mode": {
    "name": "ipython",
    "version": 3
   },
   "file_extension": ".py",
   "mimetype": "text/x-python",
   "name": "python",
   "nbconvert_exporter": "python",
   "pygments_lexer": "ipython3",
   "version": "3.12.3"
  }
 },
 "nbformat": 4,
 "nbformat_minor": 5
}
